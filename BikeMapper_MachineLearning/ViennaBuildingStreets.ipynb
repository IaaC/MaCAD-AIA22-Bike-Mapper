{
  "nbformat": 4,
  "nbformat_minor": 0,
  "metadata": {
    "colab": {
      "name": "ViennaBuildingStreets.ipynb",
      "provenance": []
    },
    "kernelspec": {
      "name": "python3",
      "display_name": "Python 3"
    },
    "language_info": {
      "name": "python"
    }
  },
  "cells": [
    {
      "cell_type": "code",
      "source": [
        "!pip install osmnx"
      ],
      "metadata": {
        "id": "fN-7ww60ZQQK"
      },
      "execution_count": null,
      "outputs": []
    },
    {
      "cell_type": "code",
      "source": [
        "import networkx as nx\n",
        "import osmnx as ox\n",
        "import pandas as pd\n",
        "import numpy as np\n",
        "from collections import Counter\n",
        "import math\n",
        "%matplotlib inline"
      ],
      "metadata": {
        "id": "zN2lWoIYYrlk"
      },
      "execution_count": null,
      "outputs": []
    },
    {
      "cell_type": "code",
      "source": [
        "#mount drive\n",
        "from google.colab import drive\n",
        "drive.mount('/content/drive')"
      ],
      "metadata": {
        "colab": {
          "base_uri": "https://localhost:8080/"
        },
        "id": "qxvNnMf8Ypc4",
        "outputId": "b710044a-e1ac-4089-aafb-76e0dc0ec272"
      },
      "execution_count": null,
      "outputs": [
        {
          "output_type": "stream",
          "name": "stdout",
          "text": [
            "Drive already mounted at /content/drive; to attempt to forcibly remount, call drive.mount(\"/content/drive\", force_remount=True).\n"
          ]
        }
      ]
    },
    {
      "cell_type": "markdown",
      "source": [
        "### Buildings"
      ],
      "metadata": {
        "id": "NthmEEpoC3BP"
      }
    },
    {
      "cell_type": "code",
      "source": [
        "#get all buildings in bounding box\n",
        "G = ox.geometries_from_bbox(48.2494, 48.1572, 16.2975, 16.4380, tags = {'building': True})"
      ],
      "metadata": {
        "colab": {
          "base_uri": "https://localhost:8080/"
        },
        "id": "O2iVuXU5ZLEJ",
        "outputId": "4f85ef1e-7df4-4192-c7f1-4aff02cd90bf"
      },
      "execution_count": null,
      "outputs": [
        {
          "output_type": "stream",
          "name": "stderr",
          "text": [
            "/usr/local/lib/python3.7/dist-packages/osmnx/geometries.py:805: ShapelyDeprecationWarning: Iteration over multi-part geometries is deprecated and will be removed in Shapely 2.0. Use the `geoms` property to access the constituent parts of a multi-part geometry.\n",
            "  for merged_outer_linestring in list(merged_outer_linestrings):\n",
            "/usr/local/lib/python3.7/dist-packages/osmnx/geometries.py:805: ShapelyDeprecationWarning: __len__ for multi-part geometries is deprecated and will be removed in Shapely 2.0. Check the length of the `geoms` property instead to get the  number of parts of a multi-part geometry.\n",
            "  for merged_outer_linestring in list(merged_outer_linestrings):\n"
          ]
        }
      ]
    },
    {
      "cell_type": "code",
      "source": [
        "G"
      ],
      "metadata": {
        "id": "SvOGPEQIb0nB"
      },
      "execution_count": null,
      "outputs": []
    },
    {
      "cell_type": "code",
      "source": [
        "#only keep polygon geometries\n",
        "buildings = G.loc[G.geometry.geometry.type=='Polygon']"
      ],
      "metadata": {
        "id": "EUXBgmKPbR7E"
      },
      "execution_count": null,
      "outputs": []
    },
    {
      "cell_type": "code",
      "source": [
        "#only keep relevant columns\n",
        "buildings = buildings[['height', 'geometry']]"
      ],
      "metadata": {
        "id": "q5j272g1bvkj"
      },
      "execution_count": null,
      "outputs": []
    },
    {
      "cell_type": "code",
      "source": [
        "#if building does have a height, set height = 12\n",
        "buildings['height'] = buildings['height'].fillna(12)"
      ],
      "metadata": {
        "id": "fkFJpK4-cOwf"
      },
      "execution_count": null,
      "outputs": []
    },
    {
      "cell_type": "code",
      "source": [
        "#clean up height column so that it only contains numbers\n",
        "disallowed_characters = \"m\"\n",
        "heights_cleaned = []\n",
        "\n",
        "for i in range(len(buildings.index)):\n",
        "  name = list(buildings['height'])[i]\n",
        "  try:\n",
        "    for character in disallowed_characters:\n",
        "\t    heights_cleaned.append(name.replace(character, \"\"))\n",
        "  except Exception:\n",
        "    heights_cleaned.append(name)\n",
        "   "
      ],
      "metadata": {
        "id": "-O_mC2wWf1Vn"
      },
      "execution_count": null,
      "outputs": []
    },
    {
      "cell_type": "code",
      "source": [
        "#drop original height column and add your cleaned up one\n",
        "buildings = buildings.drop(columns = ['height'])\n",
        "buildings['height'] = heights_cleaned"
      ],
      "metadata": {
        "id": "SFE0GUVCij3E"
      },
      "execution_count": null,
      "outputs": []
    },
    {
      "cell_type": "code",
      "source": [
        "#coonvert all height values to floats\n",
        "buildings['height'] = buildings['height'].astype(float)"
      ],
      "metadata": {
        "id": "a9kcKFcVjV2H"
      },
      "execution_count": null,
      "outputs": []
    },
    {
      "cell_type": "code",
      "source": [
        "#check to see if height values are clean\n",
        "set(list(buildings['height']))"
      ],
      "metadata": {
        "id": "t3isduL9plMg"
      },
      "execution_count": null,
      "outputs": []
    },
    {
      "cell_type": "code",
      "source": [
        "# Reproject to a projected crs (meters)\n",
        "crs = 3857\n",
        "\n",
        "buildings_proj = ox.projection.project_gdf(buildings, to_crs=crs)"
      ],
      "metadata": {
        "id": "hM_zwDlcm8Do"
      },
      "execution_count": null,
      "outputs": []
    },
    {
      "cell_type": "code",
      "source": [
        "buildings_proj"
      ],
      "metadata": {
        "colab": {
          "base_uri": "https://localhost:8080/",
          "height": 455
        },
        "id": "cKgNQtPpyWM7",
        "outputId": "a71ef08f-d7fe-46c4-a580-2520d1423f1e"
      },
      "execution_count": null,
      "outputs": [
        {
          "output_type": "execute_result",
          "data": {
            "text/plain": [
              "                                                                geometry  \\\n",
              "element_type osmid                                                         \n",
              "way          5887599   POLYGON ((1823504.819 6138752.075, 1823505.365...   \n",
              "             8083399   POLYGON ((1821295.517 6141940.658, 1821308.297...   \n",
              "             8097149   POLYGON ((1822448.564 6139913.816, 1822453.518...   \n",
              "             8097153   POLYGON ((1822666.450 6140013.788, 1822653.593...   \n",
              "             8097556   POLYGON ((1820974.817 6140853.051, 1820913.046...   \n",
              "...                                                                  ...   \n",
              "relation     13817690  POLYGON ((1815815.993 6134624.456, 1815821.192...   \n",
              "             13872064  POLYGON ((1821523.221 6141904.325, 1821519.102...   \n",
              "             13872065  POLYGON ((1821479.695 6141933.842, 1821480.820...   \n",
              "             13928463  POLYGON ((1823918.772 6139900.723, 1823946.780...   \n",
              "             14050714  POLYGON ((1822632.008 6134588.922, 1822631.507...   \n",
              "\n",
              "                       height  \n",
              "element_type osmid             \n",
              "way          5887599     12.0  \n",
              "             8083399     12.0  \n",
              "             8097149     22.0  \n",
              "             8097153     12.0  \n",
              "             8097556     25.0  \n",
              "...                       ...  \n",
              "relation     13817690    12.0  \n",
              "             13872064    24.5  \n",
              "             13872065    29.5  \n",
              "             13928463    12.0  \n",
              "             14050714    12.0  \n",
              "\n",
              "[79618 rows x 2 columns]"
            ],
            "text/html": [
              "\n",
              "  <div id=\"df-7ab81218-d2f5-4e1b-b6fc-f5a033492e76\">\n",
              "    <div class=\"colab-df-container\">\n",
              "      <div>\n",
              "<style scoped>\n",
              "    .dataframe tbody tr th:only-of-type {\n",
              "        vertical-align: middle;\n",
              "    }\n",
              "\n",
              "    .dataframe tbody tr th {\n",
              "        vertical-align: top;\n",
              "    }\n",
              "\n",
              "    .dataframe thead th {\n",
              "        text-align: right;\n",
              "    }\n",
              "</style>\n",
              "<table border=\"1\" class=\"dataframe\">\n",
              "  <thead>\n",
              "    <tr style=\"text-align: right;\">\n",
              "      <th></th>\n",
              "      <th></th>\n",
              "      <th>geometry</th>\n",
              "      <th>height</th>\n",
              "    </tr>\n",
              "    <tr>\n",
              "      <th>element_type</th>\n",
              "      <th>osmid</th>\n",
              "      <th></th>\n",
              "      <th></th>\n",
              "    </tr>\n",
              "  </thead>\n",
              "  <tbody>\n",
              "    <tr>\n",
              "      <th rowspan=\"5\" valign=\"top\">way</th>\n",
              "      <th>5887599</th>\n",
              "      <td>POLYGON ((1823504.819 6138752.075, 1823505.365...</td>\n",
              "      <td>12.0</td>\n",
              "    </tr>\n",
              "    <tr>\n",
              "      <th>8083399</th>\n",
              "      <td>POLYGON ((1821295.517 6141940.658, 1821308.297...</td>\n",
              "      <td>12.0</td>\n",
              "    </tr>\n",
              "    <tr>\n",
              "      <th>8097149</th>\n",
              "      <td>POLYGON ((1822448.564 6139913.816, 1822453.518...</td>\n",
              "      <td>22.0</td>\n",
              "    </tr>\n",
              "    <tr>\n",
              "      <th>8097153</th>\n",
              "      <td>POLYGON ((1822666.450 6140013.788, 1822653.593...</td>\n",
              "      <td>12.0</td>\n",
              "    </tr>\n",
              "    <tr>\n",
              "      <th>8097556</th>\n",
              "      <td>POLYGON ((1820974.817 6140853.051, 1820913.046...</td>\n",
              "      <td>25.0</td>\n",
              "    </tr>\n",
              "    <tr>\n",
              "      <th>...</th>\n",
              "      <th>...</th>\n",
              "      <td>...</td>\n",
              "      <td>...</td>\n",
              "    </tr>\n",
              "    <tr>\n",
              "      <th rowspan=\"5\" valign=\"top\">relation</th>\n",
              "      <th>13817690</th>\n",
              "      <td>POLYGON ((1815815.993 6134624.456, 1815821.192...</td>\n",
              "      <td>12.0</td>\n",
              "    </tr>\n",
              "    <tr>\n",
              "      <th>13872064</th>\n",
              "      <td>POLYGON ((1821523.221 6141904.325, 1821519.102...</td>\n",
              "      <td>24.5</td>\n",
              "    </tr>\n",
              "    <tr>\n",
              "      <th>13872065</th>\n",
              "      <td>POLYGON ((1821479.695 6141933.842, 1821480.820...</td>\n",
              "      <td>29.5</td>\n",
              "    </tr>\n",
              "    <tr>\n",
              "      <th>13928463</th>\n",
              "      <td>POLYGON ((1823918.772 6139900.723, 1823946.780...</td>\n",
              "      <td>12.0</td>\n",
              "    </tr>\n",
              "    <tr>\n",
              "      <th>14050714</th>\n",
              "      <td>POLYGON ((1822632.008 6134588.922, 1822631.507...</td>\n",
              "      <td>12.0</td>\n",
              "    </tr>\n",
              "  </tbody>\n",
              "</table>\n",
              "<p>79618 rows × 2 columns</p>\n",
              "</div>\n",
              "      <button class=\"colab-df-convert\" onclick=\"convertToInteractive('df-7ab81218-d2f5-4e1b-b6fc-f5a033492e76')\"\n",
              "              title=\"Convert this dataframe to an interactive table.\"\n",
              "              style=\"display:none;\">\n",
              "        \n",
              "  <svg xmlns=\"http://www.w3.org/2000/svg\" height=\"24px\"viewBox=\"0 0 24 24\"\n",
              "       width=\"24px\">\n",
              "    <path d=\"M0 0h24v24H0V0z\" fill=\"none\"/>\n",
              "    <path d=\"M18.56 5.44l.94 2.06.94-2.06 2.06-.94-2.06-.94-.94-2.06-.94 2.06-2.06.94zm-11 1L8.5 8.5l.94-2.06 2.06-.94-2.06-.94L8.5 2.5l-.94 2.06-2.06.94zm10 10l.94 2.06.94-2.06 2.06-.94-2.06-.94-.94-2.06-.94 2.06-2.06.94z\"/><path d=\"M17.41 7.96l-1.37-1.37c-.4-.4-.92-.59-1.43-.59-.52 0-1.04.2-1.43.59L10.3 9.45l-7.72 7.72c-.78.78-.78 2.05 0 2.83L4 21.41c.39.39.9.59 1.41.59.51 0 1.02-.2 1.41-.59l7.78-7.78 2.81-2.81c.8-.78.8-2.07 0-2.86zM5.41 20L4 18.59l7.72-7.72 1.47 1.35L5.41 20z\"/>\n",
              "  </svg>\n",
              "      </button>\n",
              "      \n",
              "  <style>\n",
              "    .colab-df-container {\n",
              "      display:flex;\n",
              "      flex-wrap:wrap;\n",
              "      gap: 12px;\n",
              "    }\n",
              "\n",
              "    .colab-df-convert {\n",
              "      background-color: #E8F0FE;\n",
              "      border: none;\n",
              "      border-radius: 50%;\n",
              "      cursor: pointer;\n",
              "      display: none;\n",
              "      fill: #1967D2;\n",
              "      height: 32px;\n",
              "      padding: 0 0 0 0;\n",
              "      width: 32px;\n",
              "    }\n",
              "\n",
              "    .colab-df-convert:hover {\n",
              "      background-color: #E2EBFA;\n",
              "      box-shadow: 0px 1px 2px rgba(60, 64, 67, 0.3), 0px 1px 3px 1px rgba(60, 64, 67, 0.15);\n",
              "      fill: #174EA6;\n",
              "    }\n",
              "\n",
              "    [theme=dark] .colab-df-convert {\n",
              "      background-color: #3B4455;\n",
              "      fill: #D2E3FC;\n",
              "    }\n",
              "\n",
              "    [theme=dark] .colab-df-convert:hover {\n",
              "      background-color: #434B5C;\n",
              "      box-shadow: 0px 1px 3px 1px rgba(0, 0, 0, 0.15);\n",
              "      filter: drop-shadow(0px 1px 2px rgba(0, 0, 0, 0.3));\n",
              "      fill: #FFFFFF;\n",
              "    }\n",
              "  </style>\n",
              "\n",
              "      <script>\n",
              "        const buttonEl =\n",
              "          document.querySelector('#df-7ab81218-d2f5-4e1b-b6fc-f5a033492e76 button.colab-df-convert');\n",
              "        buttonEl.style.display =\n",
              "          google.colab.kernel.accessAllowed ? 'block' : 'none';\n",
              "\n",
              "        async function convertToInteractive(key) {\n",
              "          const element = document.querySelector('#df-7ab81218-d2f5-4e1b-b6fc-f5a033492e76');\n",
              "          const dataTable =\n",
              "            await google.colab.kernel.invokeFunction('convertToInteractive',\n",
              "                                                     [key], {});\n",
              "          if (!dataTable) return;\n",
              "\n",
              "          const docLinkHtml = 'Like what you see? Visit the ' +\n",
              "            '<a target=\"_blank\" href=https://colab.research.google.com/notebooks/data_table.ipynb>data table notebook</a>'\n",
              "            + ' to learn more about interactive tables.';\n",
              "          element.innerHTML = '';\n",
              "          dataTable['output_type'] = 'display_data';\n",
              "          await google.colab.output.renderOutput(dataTable, element);\n",
              "          const docLink = document.createElement('div');\n",
              "          docLink.innerHTML = docLinkHtml;\n",
              "          element.appendChild(docLink);\n",
              "        }\n",
              "      </script>\n",
              "    </div>\n",
              "  </div>\n",
              "  "
            ]
          },
          "metadata": {},
          "execution_count": 131
        }
      ]
    },
    {
      "cell_type": "code",
      "source": [
        "#write to geojson file\n",
        "buildings_proj.to_file('/content/drive/MyDrive/S0_STUDIO/AIA_Studio/Data/infraredWind/buildings_proj.geojson', driver=\"GeoJSON\") "
      ],
      "metadata": {
        "id": "IAKZEVzLkwPk"
      },
      "execution_count": null,
      "outputs": []
    },
    {
      "cell_type": "markdown",
      "source": [
        "### Streets"
      ],
      "metadata": {
        "id": "NYxKyMyYCtwy"
      }
    },
    {
      "cell_type": "code",
      "source": [
        "S = ox.graph_from_bbox(48.2494, 48.1572, 16.2975, 16.4380, simplify = True)"
      ],
      "metadata": {
        "id": "9V2A2yMTCv8O"
      },
      "execution_count": null,
      "outputs": []
    },
    {
      "cell_type": "code",
      "source": [
        "S_nodes, S_edges = ox.graph_to_gdfs(S)"
      ],
      "metadata": {
        "id": "K_GKu2uBC-Gb"
      },
      "execution_count": null,
      "outputs": []
    },
    {
      "cell_type": "code",
      "source": [
        "streets = S_edges[['osmid', 'geometry']]"
      ],
      "metadata": {
        "id": "O7IA9EzhDW3f"
      },
      "execution_count": null,
      "outputs": []
    },
    {
      "cell_type": "code",
      "source": [
        "# Reproject to a projected crs (meters)\n",
        "crs = 3857\n",
        "streets_proj = ox.projection.project_gdf(streets, to_crs=crs)"
      ],
      "metadata": {
        "id": "5SCzrMpjDzQr"
      },
      "execution_count": null,
      "outputs": []
    },
    {
      "cell_type": "code",
      "source": [
        "streets_proj.loc[(199732, 2447309494, 0)]['osmid']"
      ],
      "metadata": {
        "colab": {
          "base_uri": "https://localhost:8080/"
        },
        "id": "GWNS4IcKEKgZ",
        "outputId": "604e83df-0d68-4cbb-b671-f01c462e43b1"
      },
      "execution_count": null,
      "outputs": [
        {
          "output_type": "execute_result",
          "data": {
            "text/plain": [
              "29065909"
            ]
          },
          "metadata": {},
          "execution_count": 236
        }
      ]
    },
    {
      "cell_type": "code",
      "source": [
        "#street segments need to be exploded so that it can be written to a geojson\n",
        "#get the intersection of the linestring geometry\n",
        "ints = streets_proj.intersection(streets_proj)"
      ],
      "metadata": {
        "id": "u5q8pTUJNcyX"
      },
      "execution_count": null,
      "outputs": []
    },
    {
      "cell_type": "code",
      "source": [
        "#explode at intersections\n",
        "explode = ints.explode()"
      ],
      "metadata": {
        "colab": {
          "base_uri": "https://localhost:8080/"
        },
        "id": "1tMe3foSMJu2",
        "outputId": "4bb3f9b5-ea01-4f93-e389-9239e8f17ffa"
      },
      "execution_count": null,
      "outputs": [
        {
          "output_type": "stream",
          "name": "stderr",
          "text": [
            "/usr/local/lib/python3.7/dist-packages/ipykernel_launcher.py:1: FutureWarning: Currently, index_parts defaults to True, but in the future, it will default to False to be consistent with Pandas. Use `index_parts=True` to keep the current behavior and True/False to silence the warning.\n",
            "  \"\"\"Entry point for launching an IPython kernel.\n"
          ]
        }
      ]
    },
    {
      "cell_type": "code",
      "source": [
        "explode"
      ],
      "metadata": {
        "colab": {
          "base_uri": "https://localhost:8080/"
        },
        "id": "RcJ5nKJgPZze",
        "outputId": "4f2b8564-578c-4a2f-e250-a5ab5e2594d6"
      },
      "execution_count": null,
      "outputs": [
        {
          "output_type": "execute_result",
          "data": {
            "text/plain": [
              "u           v           key   \n",
              "199732      2447309494  0    0    LINESTRING (1821202.064 6141639.210, 1821205.2...\n",
              "            4683383695  0    0    LINESTRING (1821202.064 6141639.210, 1821207.4...\n",
              "                             1    LINESTRING (1821207.486 6141630.507, 1821209.1...\n",
              "                             2    LINESTRING (1821209.156 6141627.835, 1821217.1...\n",
              "            318697385   0    0    LINESTRING (1821202.064 6141639.210, 1821192.5...\n",
              "                                                        ...                        \n",
              "9758085574  1846835856  0    0    LINESTRING (1821861.154 6138121.680, 1821800.7...\n",
              "            1846835874  0    0    LINESTRING (1821861.154 6138121.680, 1821911.3...\n",
              "            9758085573  0    0    LINESTRING (1821861.154 6138121.680, 1821855.3...\n",
              "            9758085575  0    0    LINESTRING (1821861.154 6138121.680, 1821881.7...\n",
              "9758085575  9758085574  0    0    LINESTRING (1821881.792 6138093.646, 1821861.1...\n",
              "Length: 325859, dtype: geometry"
            ]
          },
          "metadata": {},
          "execution_count": 207
        }
      ]
    },
    {
      "cell_type": "code",
      "source": [
        "import geopandas as gp"
      ],
      "metadata": {
        "id": "Fpc7gEU4QKO4"
      },
      "execution_count": null,
      "outputs": []
    },
    {
      "cell_type": "code",
      "source": [
        "#make new geopandas data frame with explode street edges\n",
        "streets_explode = gp.GeoDataFrame({'geometry':explode})\n",
        "streets_explode"
      ],
      "metadata": {
        "colab": {
          "base_uri": "https://localhost:8080/",
          "height": 455
        },
        "id": "zAGISeGuO4bj",
        "outputId": "5370d985-720c-434b-e8bb-bcf6b161e019"
      },
      "execution_count": null,
      "outputs": [
        {
          "output_type": "execute_result",
          "data": {
            "text/plain": [
              "                                                                      geometry\n",
              "u          v          key                                                     \n",
              "199732     2447309494 0   0  LINESTRING (1821202.064 6141639.210, 1821205.2...\n",
              "           4683383695 0   0  LINESTRING (1821202.064 6141639.210, 1821207.4...\n",
              "                          1  LINESTRING (1821207.486 6141630.507, 1821209.1...\n",
              "                          2  LINESTRING (1821209.156 6141627.835, 1821217.1...\n",
              "           318697385  0   0  LINESTRING (1821202.064 6141639.210, 1821192.5...\n",
              "...                                                                        ...\n",
              "9758085574 1846835856 0   0  LINESTRING (1821861.154 6138121.680, 1821800.7...\n",
              "           1846835874 0   0  LINESTRING (1821861.154 6138121.680, 1821911.3...\n",
              "           9758085573 0   0  LINESTRING (1821861.154 6138121.680, 1821855.3...\n",
              "           9758085575 0   0  LINESTRING (1821861.154 6138121.680, 1821881.7...\n",
              "9758085575 9758085574 0   0  LINESTRING (1821881.792 6138093.646, 1821861.1...\n",
              "\n",
              "[325859 rows x 1 columns]"
            ],
            "text/html": [
              "\n",
              "  <div id=\"df-b8fbe367-f230-43d5-aa3a-6731e394a728\">\n",
              "    <div class=\"colab-df-container\">\n",
              "      <div>\n",
              "<style scoped>\n",
              "    .dataframe tbody tr th:only-of-type {\n",
              "        vertical-align: middle;\n",
              "    }\n",
              "\n",
              "    .dataframe tbody tr th {\n",
              "        vertical-align: top;\n",
              "    }\n",
              "\n",
              "    .dataframe thead th {\n",
              "        text-align: right;\n",
              "    }\n",
              "</style>\n",
              "<table border=\"1\" class=\"dataframe\">\n",
              "  <thead>\n",
              "    <tr style=\"text-align: right;\">\n",
              "      <th></th>\n",
              "      <th></th>\n",
              "      <th></th>\n",
              "      <th></th>\n",
              "      <th>geometry</th>\n",
              "    </tr>\n",
              "    <tr>\n",
              "      <th>u</th>\n",
              "      <th>v</th>\n",
              "      <th>key</th>\n",
              "      <th></th>\n",
              "      <th></th>\n",
              "    </tr>\n",
              "  </thead>\n",
              "  <tbody>\n",
              "    <tr>\n",
              "      <th rowspan=\"5\" valign=\"top\">199732</th>\n",
              "      <th>2447309494</th>\n",
              "      <th>0</th>\n",
              "      <th>0</th>\n",
              "      <td>LINESTRING (1821202.064 6141639.210, 1821205.2...</td>\n",
              "    </tr>\n",
              "    <tr>\n",
              "      <th rowspan=\"3\" valign=\"top\">4683383695</th>\n",
              "      <th rowspan=\"3\" valign=\"top\">0</th>\n",
              "      <th>0</th>\n",
              "      <td>LINESTRING (1821202.064 6141639.210, 1821207.4...</td>\n",
              "    </tr>\n",
              "    <tr>\n",
              "      <th>1</th>\n",
              "      <td>LINESTRING (1821207.486 6141630.507, 1821209.1...</td>\n",
              "    </tr>\n",
              "    <tr>\n",
              "      <th>2</th>\n",
              "      <td>LINESTRING (1821209.156 6141627.835, 1821217.1...</td>\n",
              "    </tr>\n",
              "    <tr>\n",
              "      <th>318697385</th>\n",
              "      <th>0</th>\n",
              "      <th>0</th>\n",
              "      <td>LINESTRING (1821202.064 6141639.210, 1821192.5...</td>\n",
              "    </tr>\n",
              "    <tr>\n",
              "      <th>...</th>\n",
              "      <th>...</th>\n",
              "      <th>...</th>\n",
              "      <th>...</th>\n",
              "      <td>...</td>\n",
              "    </tr>\n",
              "    <tr>\n",
              "      <th rowspan=\"4\" valign=\"top\">9758085574</th>\n",
              "      <th>1846835856</th>\n",
              "      <th>0</th>\n",
              "      <th>0</th>\n",
              "      <td>LINESTRING (1821861.154 6138121.680, 1821800.7...</td>\n",
              "    </tr>\n",
              "    <tr>\n",
              "      <th>1846835874</th>\n",
              "      <th>0</th>\n",
              "      <th>0</th>\n",
              "      <td>LINESTRING (1821861.154 6138121.680, 1821911.3...</td>\n",
              "    </tr>\n",
              "    <tr>\n",
              "      <th>9758085573</th>\n",
              "      <th>0</th>\n",
              "      <th>0</th>\n",
              "      <td>LINESTRING (1821861.154 6138121.680, 1821855.3...</td>\n",
              "    </tr>\n",
              "    <tr>\n",
              "      <th>9758085575</th>\n",
              "      <th>0</th>\n",
              "      <th>0</th>\n",
              "      <td>LINESTRING (1821861.154 6138121.680, 1821881.7...</td>\n",
              "    </tr>\n",
              "    <tr>\n",
              "      <th>9758085575</th>\n",
              "      <th>9758085574</th>\n",
              "      <th>0</th>\n",
              "      <th>0</th>\n",
              "      <td>LINESTRING (1821881.792 6138093.646, 1821861.1...</td>\n",
              "    </tr>\n",
              "  </tbody>\n",
              "</table>\n",
              "<p>325859 rows × 1 columns</p>\n",
              "</div>\n",
              "      <button class=\"colab-df-convert\" onclick=\"convertToInteractive('df-b8fbe367-f230-43d5-aa3a-6731e394a728')\"\n",
              "              title=\"Convert this dataframe to an interactive table.\"\n",
              "              style=\"display:none;\">\n",
              "        \n",
              "  <svg xmlns=\"http://www.w3.org/2000/svg\" height=\"24px\"viewBox=\"0 0 24 24\"\n",
              "       width=\"24px\">\n",
              "    <path d=\"M0 0h24v24H0V0z\" fill=\"none\"/>\n",
              "    <path d=\"M18.56 5.44l.94 2.06.94-2.06 2.06-.94-2.06-.94-.94-2.06-.94 2.06-2.06.94zm-11 1L8.5 8.5l.94-2.06 2.06-.94-2.06-.94L8.5 2.5l-.94 2.06-2.06.94zm10 10l.94 2.06.94-2.06 2.06-.94-2.06-.94-.94-2.06-.94 2.06-2.06.94z\"/><path d=\"M17.41 7.96l-1.37-1.37c-.4-.4-.92-.59-1.43-.59-.52 0-1.04.2-1.43.59L10.3 9.45l-7.72 7.72c-.78.78-.78 2.05 0 2.83L4 21.41c.39.39.9.59 1.41.59.51 0 1.02-.2 1.41-.59l7.78-7.78 2.81-2.81c.8-.78.8-2.07 0-2.86zM5.41 20L4 18.59l7.72-7.72 1.47 1.35L5.41 20z\"/>\n",
              "  </svg>\n",
              "      </button>\n",
              "      \n",
              "  <style>\n",
              "    .colab-df-container {\n",
              "      display:flex;\n",
              "      flex-wrap:wrap;\n",
              "      gap: 12px;\n",
              "    }\n",
              "\n",
              "    .colab-df-convert {\n",
              "      background-color: #E8F0FE;\n",
              "      border: none;\n",
              "      border-radius: 50%;\n",
              "      cursor: pointer;\n",
              "      display: none;\n",
              "      fill: #1967D2;\n",
              "      height: 32px;\n",
              "      padding: 0 0 0 0;\n",
              "      width: 32px;\n",
              "    }\n",
              "\n",
              "    .colab-df-convert:hover {\n",
              "      background-color: #E2EBFA;\n",
              "      box-shadow: 0px 1px 2px rgba(60, 64, 67, 0.3), 0px 1px 3px 1px rgba(60, 64, 67, 0.15);\n",
              "      fill: #174EA6;\n",
              "    }\n",
              "\n",
              "    [theme=dark] .colab-df-convert {\n",
              "      background-color: #3B4455;\n",
              "      fill: #D2E3FC;\n",
              "    }\n",
              "\n",
              "    [theme=dark] .colab-df-convert:hover {\n",
              "      background-color: #434B5C;\n",
              "      box-shadow: 0px 1px 3px 1px rgba(0, 0, 0, 0.15);\n",
              "      filter: drop-shadow(0px 1px 2px rgba(0, 0, 0, 0.3));\n",
              "      fill: #FFFFFF;\n",
              "    }\n",
              "  </style>\n",
              "\n",
              "      <script>\n",
              "        const buttonEl =\n",
              "          document.querySelector('#df-b8fbe367-f230-43d5-aa3a-6731e394a728 button.colab-df-convert');\n",
              "        buttonEl.style.display =\n",
              "          google.colab.kernel.accessAllowed ? 'block' : 'none';\n",
              "\n",
              "        async function convertToInteractive(key) {\n",
              "          const element = document.querySelector('#df-b8fbe367-f230-43d5-aa3a-6731e394a728');\n",
              "          const dataTable =\n",
              "            await google.colab.kernel.invokeFunction('convertToInteractive',\n",
              "                                                     [key], {});\n",
              "          if (!dataTable) return;\n",
              "\n",
              "          const docLinkHtml = 'Like what you see? Visit the ' +\n",
              "            '<a target=\"_blank\" href=https://colab.research.google.com/notebooks/data_table.ipynb>data table notebook</a>'\n",
              "            + ' to learn more about interactive tables.';\n",
              "          element.innerHTML = '';\n",
              "          dataTable['output_type'] = 'display_data';\n",
              "          await google.colab.output.renderOutput(dataTable, element);\n",
              "          const docLink = document.createElement('div');\n",
              "          docLink.innerHTML = docLinkHtml;\n",
              "          element.appendChild(docLink);\n",
              "        }\n",
              "      </script>\n",
              "    </div>\n",
              "  </div>\n",
              "  "
            ]
          },
          "metadata": {},
          "execution_count": 219
        }
      ]
    },
    {
      "cell_type": "code",
      "source": [
        "streets_explode2 = streets_proj.explode()"
      ],
      "metadata": {
        "colab": {
          "base_uri": "https://localhost:8080/"
        },
        "id": "WTAN6D3IYGK-",
        "outputId": "f275bea0-b99f-4a39-f1d0-a91dc6d1929c"
      },
      "execution_count": null,
      "outputs": [
        {
          "output_type": "stream",
          "name": "stderr",
          "text": [
            "/usr/local/lib/python3.7/dist-packages/ipykernel_launcher.py:1: FutureWarning: Currently, index_parts defaults to True, but in the future, it will default to False to be consistent with Pandas. Use `index_parts=True` to keep the current behavior and True/False to silence the warning.\n",
            "  \"\"\"Entry point for launching an IPython kernel.\n"
          ]
        }
      ]
    },
    {
      "cell_type": "code",
      "source": [
        "osmid = []\n",
        "for i in range(len(streets_explode.index)):\n",
        "  osmid.append(streets_proj.loc[(streets_explode.index[i][0], streets_explode.index[i][1], streets_explode.index[i][2])]['osmid'])\n"
      ],
      "metadata": {
        "id": "rTGO5GuzU-vw"
      },
      "execution_count": null,
      "outputs": []
    },
    {
      "cell_type": "code",
      "source": [
        "streets_explode"
      ],
      "metadata": {
        "colab": {
          "base_uri": "https://localhost:8080/",
          "height": 677
        },
        "id": "m33maHsxYWqu",
        "outputId": "9a389e18-e659-4749-8c61-8b962522c4bc"
      },
      "execution_count": null,
      "outputs": [
        {
          "output_type": "execute_result",
          "data": {
            "text/plain": [
              "                                                                      geometry\n",
              "u          v          key                                                     \n",
              "199732     2447309494 0   0  LINESTRING (1821202.064 6141639.210, 1821205.2...\n",
              "           4683383695 0   0  LINESTRING (1821202.064 6141639.210, 1821207.4...\n",
              "                          1  LINESTRING (1821207.486 6141630.507, 1821209.1...\n",
              "                          2  LINESTRING (1821209.156 6141627.835, 1821217.1...\n",
              "           318697385  0   0  LINESTRING (1821202.064 6141639.210, 1821192.5...\n",
              "...                                                                        ...\n",
              "9758085574 1846835856 0   0  LINESTRING (1821861.154 6138121.680, 1821800.7...\n",
              "           1846835874 0   0  LINESTRING (1821861.154 6138121.680, 1821911.3...\n",
              "           9758085573 0   0  LINESTRING (1821861.154 6138121.680, 1821855.3...\n",
              "           9758085575 0   0  LINESTRING (1821861.154 6138121.680, 1821881.7...\n",
              "9758085575 9758085574 0   0  LINESTRING (1821881.792 6138093.646, 1821861.1...\n",
              "\n",
              "[325859 rows x 1 columns]"
            ],
            "text/html": [
              "\n",
              "  <div id=\"df-61d52421-5e5e-4b38-98cb-6a2c87694466\">\n",
              "    <div class=\"colab-df-container\">\n",
              "      <div>\n",
              "<style scoped>\n",
              "    .dataframe tbody tr th:only-of-type {\n",
              "        vertical-align: middle;\n",
              "    }\n",
              "\n",
              "    .dataframe tbody tr th {\n",
              "        vertical-align: top;\n",
              "    }\n",
              "\n",
              "    .dataframe thead th {\n",
              "        text-align: right;\n",
              "    }\n",
              "</style>\n",
              "<table border=\"1\" class=\"dataframe\">\n",
              "  <thead>\n",
              "    <tr style=\"text-align: right;\">\n",
              "      <th></th>\n",
              "      <th></th>\n",
              "      <th></th>\n",
              "      <th></th>\n",
              "      <th>geometry</th>\n",
              "    </tr>\n",
              "    <tr>\n",
              "      <th>u</th>\n",
              "      <th>v</th>\n",
              "      <th>key</th>\n",
              "      <th></th>\n",
              "      <th></th>\n",
              "    </tr>\n",
              "  </thead>\n",
              "  <tbody>\n",
              "    <tr>\n",
              "      <th rowspan=\"5\" valign=\"top\">199732</th>\n",
              "      <th>2447309494</th>\n",
              "      <th>0</th>\n",
              "      <th>0</th>\n",
              "      <td>LINESTRING (1821202.064 6141639.210, 1821205.2...</td>\n",
              "    </tr>\n",
              "    <tr>\n",
              "      <th rowspan=\"3\" valign=\"top\">4683383695</th>\n",
              "      <th rowspan=\"3\" valign=\"top\">0</th>\n",
              "      <th>0</th>\n",
              "      <td>LINESTRING (1821202.064 6141639.210, 1821207.4...</td>\n",
              "    </tr>\n",
              "    <tr>\n",
              "      <th>1</th>\n",
              "      <td>LINESTRING (1821207.486 6141630.507, 1821209.1...</td>\n",
              "    </tr>\n",
              "    <tr>\n",
              "      <th>2</th>\n",
              "      <td>LINESTRING (1821209.156 6141627.835, 1821217.1...</td>\n",
              "    </tr>\n",
              "    <tr>\n",
              "      <th>318697385</th>\n",
              "      <th>0</th>\n",
              "      <th>0</th>\n",
              "      <td>LINESTRING (1821202.064 6141639.210, 1821192.5...</td>\n",
              "    </tr>\n",
              "    <tr>\n",
              "      <th>...</th>\n",
              "      <th>...</th>\n",
              "      <th>...</th>\n",
              "      <th>...</th>\n",
              "      <td>...</td>\n",
              "    </tr>\n",
              "    <tr>\n",
              "      <th rowspan=\"4\" valign=\"top\">9758085574</th>\n",
              "      <th>1846835856</th>\n",
              "      <th>0</th>\n",
              "      <th>0</th>\n",
              "      <td>LINESTRING (1821861.154 6138121.680, 1821800.7...</td>\n",
              "    </tr>\n",
              "    <tr>\n",
              "      <th>1846835874</th>\n",
              "      <th>0</th>\n",
              "      <th>0</th>\n",
              "      <td>LINESTRING (1821861.154 6138121.680, 1821911.3...</td>\n",
              "    </tr>\n",
              "    <tr>\n",
              "      <th>9758085573</th>\n",
              "      <th>0</th>\n",
              "      <th>0</th>\n",
              "      <td>LINESTRING (1821861.154 6138121.680, 1821855.3...</td>\n",
              "    </tr>\n",
              "    <tr>\n",
              "      <th>9758085575</th>\n",
              "      <th>0</th>\n",
              "      <th>0</th>\n",
              "      <td>LINESTRING (1821861.154 6138121.680, 1821881.7...</td>\n",
              "    </tr>\n",
              "    <tr>\n",
              "      <th>9758085575</th>\n",
              "      <th>9758085574</th>\n",
              "      <th>0</th>\n",
              "      <th>0</th>\n",
              "      <td>LINESTRING (1821881.792 6138093.646, 1821861.1...</td>\n",
              "    </tr>\n",
              "  </tbody>\n",
              "</table>\n",
              "<p>325859 rows × 1 columns</p>\n",
              "</div>\n",
              "      <button class=\"colab-df-convert\" onclick=\"convertToInteractive('df-61d52421-5e5e-4b38-98cb-6a2c87694466')\"\n",
              "              title=\"Convert this dataframe to an interactive table.\"\n",
              "              style=\"display:none;\">\n",
              "        \n",
              "  <svg xmlns=\"http://www.w3.org/2000/svg\" height=\"24px\"viewBox=\"0 0 24 24\"\n",
              "       width=\"24px\">\n",
              "    <path d=\"M0 0h24v24H0V0z\" fill=\"none\"/>\n",
              "    <path d=\"M18.56 5.44l.94 2.06.94-2.06 2.06-.94-2.06-.94-.94-2.06-.94 2.06-2.06.94zm-11 1L8.5 8.5l.94-2.06 2.06-.94-2.06-.94L8.5 2.5l-.94 2.06-2.06.94zm10 10l.94 2.06.94-2.06 2.06-.94-2.06-.94-.94-2.06-.94 2.06-2.06.94z\"/><path d=\"M17.41 7.96l-1.37-1.37c-.4-.4-.92-.59-1.43-.59-.52 0-1.04.2-1.43.59L10.3 9.45l-7.72 7.72c-.78.78-.78 2.05 0 2.83L4 21.41c.39.39.9.59 1.41.59.51 0 1.02-.2 1.41-.59l7.78-7.78 2.81-2.81c.8-.78.8-2.07 0-2.86zM5.41 20L4 18.59l7.72-7.72 1.47 1.35L5.41 20z\"/>\n",
              "  </svg>\n",
              "      </button>\n",
              "      \n",
              "  <style>\n",
              "    .colab-df-container {\n",
              "      display:flex;\n",
              "      flex-wrap:wrap;\n",
              "      gap: 12px;\n",
              "    }\n",
              "\n",
              "    .colab-df-convert {\n",
              "      background-color: #E8F0FE;\n",
              "      border: none;\n",
              "      border-radius: 50%;\n",
              "      cursor: pointer;\n",
              "      display: none;\n",
              "      fill: #1967D2;\n",
              "      height: 32px;\n",
              "      padding: 0 0 0 0;\n",
              "      width: 32px;\n",
              "    }\n",
              "\n",
              "    .colab-df-convert:hover {\n",
              "      background-color: #E2EBFA;\n",
              "      box-shadow: 0px 1px 2px rgba(60, 64, 67, 0.3), 0px 1px 3px 1px rgba(60, 64, 67, 0.15);\n",
              "      fill: #174EA6;\n",
              "    }\n",
              "\n",
              "    [theme=dark] .colab-df-convert {\n",
              "      background-color: #3B4455;\n",
              "      fill: #D2E3FC;\n",
              "    }\n",
              "\n",
              "    [theme=dark] .colab-df-convert:hover {\n",
              "      background-color: #434B5C;\n",
              "      box-shadow: 0px 1px 3px 1px rgba(0, 0, 0, 0.15);\n",
              "      filter: drop-shadow(0px 1px 2px rgba(0, 0, 0, 0.3));\n",
              "      fill: #FFFFFF;\n",
              "    }\n",
              "  </style>\n",
              "\n",
              "      <script>\n",
              "        const buttonEl =\n",
              "          document.querySelector('#df-61d52421-5e5e-4b38-98cb-6a2c87694466 button.colab-df-convert');\n",
              "        buttonEl.style.display =\n",
              "          google.colab.kernel.accessAllowed ? 'block' : 'none';\n",
              "\n",
              "        async function convertToInteractive(key) {\n",
              "          const element = document.querySelector('#df-61d52421-5e5e-4b38-98cb-6a2c87694466');\n",
              "          const dataTable =\n",
              "            await google.colab.kernel.invokeFunction('convertToInteractive',\n",
              "                                                     [key], {});\n",
              "          if (!dataTable) return;\n",
              "\n",
              "          const docLinkHtml = 'Like what you see? Visit the ' +\n",
              "            '<a target=\"_blank\" href=https://colab.research.google.com/notebooks/data_table.ipynb>data table notebook</a>'\n",
              "            + ' to learn more about interactive tables.';\n",
              "          element.innerHTML = '';\n",
              "          dataTable['output_type'] = 'display_data';\n",
              "          await google.colab.output.renderOutput(dataTable, element);\n",
              "          const docLink = document.createElement('div');\n",
              "          docLink.innerHTML = docLinkHtml;\n",
              "          element.appendChild(docLink);\n",
              "        }\n",
              "      </script>\n",
              "    </div>\n",
              "  </div>\n",
              "  "
            ]
          },
          "metadata": {},
          "execution_count": 245
        },
        {
          "output_type": "stream",
          "name": "stdout",
          "text": [
            "Warning: total number of rows (325859) exceeds max_rows (20000). Limiting to first (20000) rows.\n"
          ]
        }
      ]
    },
    {
      "cell_type": "code",
      "source": [
        "type(osmid[50])"
      ],
      "metadata": {
        "colab": {
          "base_uri": "https://localhost:8080/"
        },
        "id": "3m_2NNbCX3AS",
        "outputId": "b384f739-d392-44c5-f996-90fd5d15f0d0"
      },
      "execution_count": null,
      "outputs": [
        {
          "output_type": "execute_result",
          "data": {
            "text/plain": [
              "list"
            ]
          },
          "metadata": {},
          "execution_count": 255
        }
      ]
    },
    {
      "cell_type": "code",
      "source": [
        "count = 0\n",
        "for id in osmid:\n",
        "  if type(id) == 'list':\n",
        "    length = len(id)\n",
        "    for value in range(0,length):\n",
        "      osmid[i+value] = osmid[i][value]\n",
        "      count+=1"
      ],
      "metadata": {
        "id": "1pF2Ym5UZpzO"
      },
      "execution_count": null,
      "outputs": []
    },
    {
      "cell_type": "code",
      "source": [
        "#write to geojson file\n",
        "streets_explode.to_file('/content/drive/MyDrive/S0_STUDIO/AIA_Studio/Data/infraredWind/streets_proj.geojson', driver=\"GeoJSON\") "
      ],
      "metadata": {
        "id": "DwnqpqEwEPXk"
      },
      "execution_count": null,
      "outputs": []
    }
  ]
}