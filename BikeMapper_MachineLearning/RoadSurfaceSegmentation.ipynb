{
  "nbformat": 4,
  "nbformat_minor": 0,
  "metadata": {
    "colab": {
      "name": "Copy of RoadSurfaceSegmentation.ipynb",
      "provenance": [],
      "collapsed_sections": [
        "mk2r-gCRCVb_",
        "nBWj9_LSC2G5",
        "UbxyIcZkDqBJ",
        "K7W20An-GnNm",
        "VE4zF162G-4z",
        "tRZoEiB8HJhI",
        "3oW77qUxHhkp",
        "3ojFnvRBHx8v",
        "KgZkM8M1IAxD",
        "_siWJq89IOdJ",
        "Uh1ZPx64gR56",
        "aT8l81QTjBrE",
        "33FD1Sc2j-k0",
        "4TAIZ9s4msq5",
        "D8N5E7BxnK7n",
        "XI-bgt6voXi9",
        "wAZbjvb40iMJ",
        "g5RVRyXL0_Uh",
        "eZ7SZZBN1KrS",
        "S0FHwE1p1RmR",
        "IO3-KXDsp4VB",
        "Ke8FATsZW1n_"
      ]
    },
    "kernelspec": {
      "name": "python3",
      "display_name": "Python 3"
    },
    "accelerator": "GPU"
  },
  "cells": [
    {
      "cell_type": "markdown",
      "metadata": {
        "id": "GGg9kEr0mzrf",
        "colab_type": "text"
      },
      "source": [
        "# Road surface detection and differentiation considering surface damages"
      ]
    },
    {
      "cell_type": "markdown",
      "metadata": {
        "id": "mk2r-gCRCVb_",
        "colab_type": "text"
      },
      "source": [
        "## 1. Initial settings\n",
        "\n",
        "---\n",
        "\n"
      ]
    },
    {
      "cell_type": "code",
      "metadata": {
        "id": "woWwcX5eznYL",
        "colab_type": "code",
        "colab": {}
      },
      "source": [
        "%reload_ext autoreload\n",
        "%autoreload 2\n",
        "%matplotlib inline\n",
        "!/opt/bin/nvidia-smi\n",
        "!nvcc --version"
      ],
      "execution_count": null,
      "outputs": []
    },
    {
      "cell_type": "code",
      "metadata": {
        "id": "rUlUjSarCbeu",
        "colab_type": "code",
        "colab": {}
      },
      "source": [
        "from fastai.vision import *\n",
        "from fastai.vision.interpret import *\n",
        "from fastai.callbacks.hooks import *\n",
        "from pathlib import Path\n",
        "from fastai.utils.mem import *\n",
        "torch.backends.cudnn.benchmark=True"
      ],
      "execution_count": null,
      "outputs": []
    },
    {
      "cell_type": "code",
      "metadata": {
        "id": "fbNQPOrsCdRX",
        "colab_type": "code",
        "colab": {}
      },
      "source": [
        "import warnings\n",
        "warnings.filterwarnings(\"ignore\", category=UserWarning, module=\"torch.nn.functional\")"
      ],
      "execution_count": null,
      "outputs": []
    },
    {
      "cell_type": "code",
      "metadata": {
        "id": "D3GdYMqtCexi",
        "colab_type": "code",
        "colab": {}
      },
      "source": [
        "from google.colab import drive\n",
        "drive.mount('/content/gdrive')"
      ],
      "execution_count": null,
      "outputs": []
    },
    {
      "cell_type": "markdown",
      "metadata": {
        "id": "nBWj9_LSC2G5",
        "colab_type": "text"
      },
      "source": [
        "## 2. Preparing the data\n",
        "\n",
        "---\n",
        "\n"
      ]
    },
    {
      "cell_type": "code",
      "metadata": {
        "id": "6yMPQ7v7CtbG",
        "colab_type": "code",
        "colab": {}
      },
      "source": [
        "path = Path('gdrive/My Drive/Colab Notebooks/data/')\n",
        "path.ls()"
      ],
      "execution_count": null,
      "outputs": []
    },
    {
      "cell_type": "code",
      "metadata": {
        "id": "Z1BpN93iC8J7",
        "colab_type": "code",
        "colab": {}
      },
      "source": [
        "codes = np.loadtxt(path/'codes.txt', dtype=str); codes"
      ],
      "execution_count": null,
      "outputs": []
    },
    {
      "cell_type": "code",
      "metadata": {
        "id": "kfT8JAUYC-tp",
        "colab_type": "code",
        "colab": {}
      },
      "source": [
        "path_lbl = path/'labels'\n",
        "path_img = path/'images'"
      ],
      "execution_count": null,
      "outputs": []
    },
    {
      "cell_type": "code",
      "metadata": {
        "id": "N83tmLjBDAII",
        "colab_type": "code",
        "colab": {}
      },
      "source": [
        "fnames = get_image_files(path_img)\n",
        "fnames[:3]\n",
        "len(fnames)"
      ],
      "execution_count": null,
      "outputs": []
    },
    {
      "cell_type": "code",
      "metadata": {
        "id": "ZvTFNcwxDB6C",
        "colab_type": "code",
        "colab": {}
      },
      "source": [
        "lbl_names = get_image_files(path_lbl)\n",
        "lbl_names[:3]\n",
        "len(lbl_names)"
      ],
      "execution_count": null,
      "outputs": []
    },
    {
      "cell_type": "code",
      "metadata": {
        "id": "Dzk-MfPYDD7p",
        "colab_type": "code",
        "colab": {}
      },
      "source": [
        "img_f = fnames[139]\n",
        "img = open_image(img_f)\n",
        "img.show(figsize=(5,5))"
      ],
      "execution_count": null,
      "outputs": []
    },
    {
      "cell_type": "code",
      "metadata": {
        "id": "KxBbLefJDFsd",
        "colab_type": "code",
        "colab": {}
      },
      "source": [
        "get_y_fn = lambda x: path_lbl/f'{x.stem}{x.suffix}'"
      ],
      "execution_count": null,
      "outputs": []
    },
    {
      "cell_type": "code",
      "metadata": {
        "id": "P73xHjqaDHI7",
        "colab_type": "code",
        "colab": {}
      },
      "source": [
        "mask = open_mask(get_y_fn(img_f))\n",
        "mask.show(figsize=(5,5), alpha=1)"
      ],
      "execution_count": null,
      "outputs": []
    },
    {
      "cell_type": "code",
      "metadata": {
        "id": "a_2SmfMCDI7n",
        "colab_type": "code",
        "colab": {}
      },
      "source": [
        "src_size = np.array(mask.shape[1:])\n",
        "src_size,mask.data"
      ],
      "execution_count": null,
      "outputs": []
    },
    {
      "cell_type": "markdown",
      "metadata": {
        "id": "NmrXBAhNf5mC",
        "colab_type": "text"
      },
      "source": [
        "## 3. First Step - Without weights\n",
        "\n",
        "---\n",
        "\n"
      ]
    },
    {
      "cell_type": "markdown",
      "metadata": {
        "id": "UbxyIcZkDqBJ",
        "colab_type": "text"
      },
      "source": [
        "### 3.1. First step Datasets\n",
        "\n",
        "---\n",
        "\n"
      ]
    },
    {
      "cell_type": "code",
      "metadata": {
        "id": "KoQLPTpZDZQZ",
        "colab_type": "code",
        "colab": {}
      },
      "source": [
        "size = src_size\n",
        "\n",
        "free = gpu_mem_get_free_no_cache()\n",
        "# the max size of bs depends on the available GPU RAM\n",
        "if free > 8200: bs=8\n",
        "else:           bs=4\n",
        "print(f\"using bs={bs}, have {free}MB of GPU RAM free\")"
      ],
      "execution_count": null,
      "outputs": []
    },
    {
      "cell_type": "code",
      "metadata": {
        "id": "ypW12JvVDxMk",
        "colab_type": "code",
        "colab": {}
      },
      "source": [
        "src = (SegmentationItemList.from_folder(path_img)\n",
        "       .split_by_fname_file('../valid.txt')\n",
        "       .label_from_func(get_y_fn, classes=codes))"
      ],
      "execution_count": null,
      "outputs": []
    },
    {
      "cell_type": "code",
      "metadata": {
        "id": "-qSJBnFCDy7t",
        "colab_type": "code",
        "colab": {}
      },
      "source": [
        "data = (src.transform(get_transforms(), size=size, tfm_y=True)\n",
        "        .databunch(bs=bs)\n",
        "        .normalize(imagenet_stats))"
      ],
      "execution_count": null,
      "outputs": []
    },
    {
      "cell_type": "code",
      "metadata": {
        "id": "-HeHMvl3D0vH",
        "colab_type": "code",
        "colab": {}
      },
      "source": [
        "data.show_batch(2, figsize=(10,10))"
      ],
      "execution_count": null,
      "outputs": []
    },
    {
      "cell_type": "code",
      "metadata": {
        "id": "eFnPc-sND2fW",
        "colab_type": "code",
        "colab": {}
      },
      "source": [
        "data.show_batch(2, figsize=(10,7), ds_type=DatasetType.Valid)"
      ],
      "execution_count": null,
      "outputs": []
    },
    {
      "cell_type": "markdown",
      "metadata": {
        "id": "K7W20An-GnNm",
        "colab_type": "text"
      },
      "source": [
        "### 3.2. First step Model\n",
        "\n",
        "---\n",
        "\n"
      ]
    },
    {
      "cell_type": "code",
      "metadata": {
        "id": "V-paASzNELtK",
        "colab_type": "code",
        "colab": {}
      },
      "source": [
        "name2id = {v:k for k,v in enumerate(codes)}\n",
        "\n",
        "def acc_rtk(input, target):\n",
        "    target = target.squeeze(1)\n",
        "    mask = target != 0\n",
        "    return (input.argmax(dim=1)[mask]==target[mask]).float().mean()"
      ],
      "execution_count": null,
      "outputs": []
    },
    {
      "cell_type": "code",
      "metadata": {
        "id": "NcAvDEryGuwq",
        "colab_type": "code",
        "colab": {}
      },
      "source": [
        "metrics=acc_rtk\n",
        "wd=1e-2"
      ],
      "execution_count": null,
      "outputs": []
    },
    {
      "cell_type": "code",
      "metadata": {
        "id": "F9rbvQ8AGw0a",
        "colab_type": "code",
        "colab": {}
      },
      "source": [
        "learn = unet_learner(data, models.resnet34, metrics=metrics, wd=wd)"
      ],
      "execution_count": null,
      "outputs": []
    },
    {
      "cell_type": "code",
      "metadata": {
        "id": "wpjCmT8mGy1W",
        "colab_type": "code",
        "colab": {}
      },
      "source": [
        "#CUDA_LAUNCH_BLOCKING=1\n",
        "lr_find(learn)\n",
        "learn.recorder.plot()"
      ],
      "execution_count": null,
      "outputs": []
    },
    {
      "cell_type": "code",
      "metadata": {
        "id": "GS7-jnS0G1DM",
        "colab_type": "code",
        "colab": {}
      },
      "source": [
        "lr=1e-4"
      ],
      "execution_count": null,
      "outputs": []
    },
    {
      "cell_type": "code",
      "metadata": {
        "id": "u0Y52M-qG3ID",
        "colab_type": "code",
        "colab": {}
      },
      "source": [
        "learn.fit_one_cycle(10, slice(lr), pct_start=0.9)"
      ],
      "execution_count": null,
      "outputs": []
    },
    {
      "cell_type": "code",
      "metadata": {
        "id": "Ym9mEJVVG4zE",
        "colab_type": "code",
        "colab": {}
      },
      "source": [
        "learn.save('stage-1')"
      ],
      "execution_count": null,
      "outputs": []
    },
    {
      "cell_type": "code",
      "metadata": {
        "id": "r_WCYmq3G6Uf",
        "colab_type": "code",
        "colab": {}
      },
      "source": [
        "learn.load('stage-1');"
      ],
      "execution_count": null,
      "outputs": []
    },
    {
      "cell_type": "code",
      "metadata": {
        "id": "Gb-EFFVpG7-q",
        "colab_type": "code",
        "colab": {}
      },
      "source": [
        "learn.show_results(rows=5, figsize=(15,15))"
      ],
      "execution_count": null,
      "outputs": []
    },
    {
      "cell_type": "markdown",
      "metadata": {
        "id": "VE4zF162G-4z",
        "colab_type": "text"
      },
      "source": [
        "### 3.3. Interpret\n",
        "\n",
        "---\n",
        "\n"
      ]
    },
    {
      "cell_type": "code",
      "metadata": {
        "id": "kJu9vBlfHA5B",
        "colab_type": "code",
        "colab": {}
      },
      "source": [
        "interp = SegmentationInterpretation.from_learner(learn)"
      ],
      "execution_count": null,
      "outputs": []
    },
    {
      "cell_type": "code",
      "metadata": {
        "id": "rea5Nz9yHCxp",
        "colab_type": "code",
        "colab": {}
      },
      "source": [
        "top_losses, top_idxs = interp.top_losses((288,352))"
      ],
      "execution_count": null,
      "outputs": []
    },
    {
      "cell_type": "code",
      "metadata": {
        "id": "VSCFhKzzHEfS",
        "colab_type": "code",
        "colab": {}
      },
      "source": [
        "# plot loss distribution\n",
        "plt.hist(to_np(top_losses), bins=20)"
      ],
      "execution_count": null,
      "outputs": []
    },
    {
      "cell_type": "code",
      "metadata": {
        "id": "_MHIJS_yHGa7",
        "colab_type": "code",
        "colab": {}
      },
      "source": [
        "# top loss idxs of images\n",
        "top_idxs[:5]"
      ],
      "execution_count": null,
      "outputs": []
    },
    {
      "cell_type": "markdown",
      "metadata": {
        "id": "tRZoEiB8HJhI",
        "colab_type": "text"
      },
      "source": [
        "### 3.4. Confusion Matrix\n",
        "\n",
        "---\n",
        "\n"
      ]
    },
    {
      "cell_type": "code",
      "metadata": {
        "id": "mRo-rEthHJ6A",
        "colab_type": "code",
        "colab": {}
      },
      "source": [
        "mean_cm, single_img_cm = interp._generate_confusion()"
      ],
      "execution_count": null,
      "outputs": []
    },
    {
      "cell_type": "code",
      "metadata": {
        "id": "mTum9BXpHNBn",
        "colab_type": "code",
        "colab": {}
      },
      "source": [
        "mean_cm.shape, single_img_cm.shape"
      ],
      "execution_count": null,
      "outputs": []
    },
    {
      "cell_type": "code",
      "metadata": {
        "id": "9uFc-7KcHO2l",
        "colab_type": "code",
        "colab": {}
      },
      "source": [
        "# global class performance\n",
        "df = interp._plot_intersect_cm(mean_cm, \"Mean of Ratio of Intersection given True Label\")"
      ],
      "execution_count": null,
      "outputs": []
    },
    {
      "cell_type": "code",
      "metadata": {
        "id": "D4bA9Qw4HXEB",
        "colab_type": "code",
        "colab": {}
      },
      "source": [
        "# single image class performance\n",
        "i = 10\n",
        "df = interp._plot_intersect_cm(single_img_cm[i], f\"Ratio of Intersection given True Label, Image:{i}\")"
      ],
      "execution_count": null,
      "outputs": []
    },
    {
      "cell_type": "code",
      "metadata": {
        "id": "tbFVrVCVHaK6",
        "colab_type": "code",
        "colab": {}
      },
      "source": [
        "# show xyz\n",
        "interp.show_xyz(i)"
      ],
      "execution_count": null,
      "outputs": []
    },
    {
      "cell_type": "markdown",
      "metadata": {
        "id": "3oW77qUxHhkp",
        "colab_type": "text"
      },
      "source": [
        "### 3.5. First model continuation\n",
        "\n",
        "---\n",
        "\n"
      ]
    },
    {
      "cell_type": "code",
      "metadata": {
        "id": "DHhM3YfjHjmV",
        "colab_type": "code",
        "colab": {}
      },
      "source": [
        "learn.unfreeze()"
      ],
      "execution_count": null,
      "outputs": []
    },
    {
      "cell_type": "code",
      "metadata": {
        "id": "vpf9gZYgHlnI",
        "colab_type": "code",
        "colab": {}
      },
      "source": [
        "lrs = slice(lr/400,lr/4)"
      ],
      "execution_count": null,
      "outputs": []
    },
    {
      "cell_type": "code",
      "metadata": {
        "id": "h84SZCadHnaY",
        "colab_type": "code",
        "colab": {}
      },
      "source": [
        "learn.fit_one_cycle(100, lrs, pct_start=0.9)"
      ],
      "execution_count": null,
      "outputs": []
    },
    {
      "cell_type": "code",
      "metadata": {
        "id": "iJxgf68WHqD8",
        "colab_type": "code",
        "colab": {}
      },
      "source": [
        "learn.save('stage-2')"
      ],
      "execution_count": null,
      "outputs": []
    },
    {
      "cell_type": "code",
      "metadata": {
        "id": "t_rkQMWVHrmf",
        "colab_type": "code",
        "colab": {}
      },
      "source": [
        "learn.load('stage-2');"
      ],
      "execution_count": null,
      "outputs": []
    },
    {
      "cell_type": "code",
      "metadata": {
        "id": "rwQbJFU2HtMx",
        "colab_type": "code",
        "colab": {}
      },
      "source": [
        "learn.show_results(rows=25, figsize=(20,20))"
      ],
      "execution_count": null,
      "outputs": []
    },
    {
      "cell_type": "markdown",
      "metadata": {
        "id": "3ojFnvRBHx8v",
        "colab_type": "text"
      },
      "source": [
        "### 3.6. Confusion Matrix\n",
        "\n",
        "---\n",
        "\n"
      ]
    },
    {
      "cell_type": "code",
      "metadata": {
        "id": "Sdx-NrEBiPjh",
        "colab_type": "code",
        "colab": {}
      },
      "source": [
        "interp = SegmentationInterpretation.from_learner(learn)"
      ],
      "execution_count": null,
      "outputs": []
    },
    {
      "cell_type": "code",
      "metadata": {
        "id": "khTXOjeCHz4U",
        "colab_type": "code",
        "colab": {}
      },
      "source": [
        "mean_cm, single_img_cm = interp._generate_confusion()"
      ],
      "execution_count": null,
      "outputs": []
    },
    {
      "cell_type": "code",
      "metadata": {
        "id": "LvilgGWHH2MX",
        "colab_type": "code",
        "colab": {}
      },
      "source": [
        "mean_cm.shape, single_img_cm.shape"
      ],
      "execution_count": null,
      "outputs": []
    },
    {
      "cell_type": "code",
      "metadata": {
        "id": "0b1RhFsxH4PW",
        "colab_type": "code",
        "colab": {}
      },
      "source": [
        "# global class performance\n",
        "df = interp._plot_intersect_cm(mean_cm, \"Mean of Ratio of Intersection given True Label\")"
      ],
      "execution_count": null,
      "outputs": []
    },
    {
      "cell_type": "code",
      "metadata": {
        "id": "XuneWk4BH64P",
        "colab_type": "code",
        "colab": {}
      },
      "source": [
        "# single image class performance\n",
        "i = 0\n",
        "df = interp._plot_intersect_cm(single_img_cm[i], f\"Ratio of Intersection given True Label, Image:{i}\")"
      ],
      "execution_count": null,
      "outputs": []
    },
    {
      "cell_type": "code",
      "metadata": {
        "id": "G9ZMMt2IH85B",
        "colab_type": "code",
        "colab": {}
      },
      "source": [
        "# show xyz\n",
        "interp.show_xyz(i)"
      ],
      "execution_count": null,
      "outputs": []
    },
    {
      "cell_type": "markdown",
      "metadata": {
        "id": "KgZkM8M1IAxD",
        "colab_type": "text"
      },
      "source": [
        "### 3.7. Interpret\n",
        "\n",
        "---\n",
        "\n"
      ]
    },
    {
      "cell_type": "code",
      "metadata": {
        "id": "BXla1Fq0IBMS",
        "colab_type": "code",
        "colab": {}
      },
      "source": [
        "learn.interpret"
      ],
      "execution_count": null,
      "outputs": []
    },
    {
      "cell_type": "markdown",
      "metadata": {
        "id": "_siWJq89IOdJ",
        "colab_type": "text"
      },
      "source": [
        "### 3.8. Saving\n",
        "\n",
        "---\n",
        "\n"
      ]
    },
    {
      "cell_type": "code",
      "metadata": {
        "id": "m3WfZ7bTIQOW",
        "colab_type": "code",
        "colab": {}
      },
      "source": [
        "learn.save('stage-2')"
      ],
      "execution_count": null,
      "outputs": []
    },
    {
      "cell_type": "code",
      "metadata": {
        "id": "HvexEcm9ISE_",
        "colab_type": "code",
        "colab": {}
      },
      "source": [
        "data=None\n",
        "learn=None\n",
        "gc.collect()"
      ],
      "execution_count": null,
      "outputs": []
    },
    {
      "cell_type": "markdown",
      "metadata": {
        "id": "Uh1ZPx64gR56",
        "colab_type": "text"
      },
      "source": [
        "## 4. Second Step - With weights\n",
        "\n",
        "---\n",
        "\n"
      ]
    },
    {
      "cell_type": "markdown",
      "metadata": {
        "id": "aT8l81QTjBrE",
        "colab_type": "text"
      },
      "source": [
        "### 4.1. Second step Datasets\n",
        "\n",
        "---\n",
        "\n"
      ]
    },
    {
      "cell_type": "code",
      "metadata": {
        "id": "FZP0o8F9i5-o",
        "colab_type": "code",
        "colab": {}
      },
      "source": [
        "size = src_size\n",
        "\n",
        "free = gpu_mem_get_free_no_cache()\n",
        "# the max size of bs depends on the available GPU RAM\n",
        "if free > 8200: bs=8\n",
        "else:           bs=4\n",
        "print(f\"using bs={bs}, have {free}MB of GPU RAM free\")"
      ],
      "execution_count": null,
      "outputs": []
    },
    {
      "cell_type": "code",
      "metadata": {
        "id": "FgHlUXXIjMKU",
        "colab_type": "code",
        "colab": {}
      },
      "source": [
        "src = (SegmentationItemList.from_folder(path_img)\n",
        "       .split_by_fname_file('../valid.txt')\n",
        "       .label_from_func(get_y_fn, classes=codes))"
      ],
      "execution_count": null,
      "outputs": []
    },
    {
      "cell_type": "code",
      "metadata": {
        "id": "0WjndpsWjN85",
        "colab_type": "code",
        "colab": {}
      },
      "source": [
        "data = (src.transform(get_transforms(), size=size, tfm_y=True)\n",
        "        .databunch(bs=bs)\n",
        "        .normalize(imagenet_stats))"
      ],
      "execution_count": null,
      "outputs": []
    },
    {
      "cell_type": "code",
      "metadata": {
        "id": "BIaF-c96jRC4",
        "colab_type": "code",
        "colab": {}
      },
      "source": [
        "data.show_batch(2, figsize=(10,10))"
      ],
      "execution_count": null,
      "outputs": []
    },
    {
      "cell_type": "code",
      "metadata": {
        "id": "amJs-yS0jTj2",
        "colab_type": "code",
        "colab": {}
      },
      "source": [
        "data.show_batch(2, figsize=(10,7), ds_type=DatasetType.Valid)"
      ],
      "execution_count": null,
      "outputs": []
    },
    {
      "cell_type": "markdown",
      "metadata": {
        "id": "33FD1Sc2j-k0",
        "colab_type": "text"
      },
      "source": [
        "### 4.2. Second step Model\n",
        "\n",
        "---\n",
        "\n"
      ]
    },
    {
      "cell_type": "code",
      "metadata": {
        "id": "51MWvFIcj8PK",
        "colab_type": "code",
        "colab": {}
      },
      "source": [
        "name2id = {v:k for k,v in enumerate(codes)}\n",
        "void_code = name2id['manholeCover']\n",
        "\n",
        "def acc_rtk(input, target):\n",
        "    target = target.squeeze(1)\n",
        "    mask = target != void_code\n",
        "    return (input.argmax(dim=1)[mask]==target[mask]).float().mean()"
      ],
      "execution_count": null,
      "outputs": []
    },
    {
      "cell_type": "code",
      "metadata": {
        "id": "U-TFrct9kEI7",
        "colab_type": "code",
        "colab": {}
      },
      "source": [
        "metrics=acc_rtk\n",
        "wd=1e-2"
      ],
      "execution_count": null,
      "outputs": []
    },
    {
      "cell_type": "code",
      "metadata": {
        "id": "XhlXrkb3kGqL",
        "colab_type": "code",
        "colab": {}
      },
      "source": [
        "balanced_loss = CrossEntropyFlat(axis=1, weight=torch.tensor([1.0,5.0,6.0,7.0,75.0,1000.0,3100.0,3300.0,0.0,270.0,2200.0,1000.0,180.0]).cuda())"
      ],
      "execution_count": null,
      "outputs": []
    },
    {
      "cell_type": "code",
      "metadata": {
        "id": "r53gfgy6kKsP",
        "colab_type": "code",
        "colab": {}
      },
      "source": [
        "learn = unet_learner(data, models.resnet34, metrics=metrics, loss_func=balanced_loss, wd=wd)"
      ],
      "execution_count": null,
      "outputs": []
    },
    {
      "cell_type": "code",
      "metadata": {
        "id": "QZJ69o4ZkRW3",
        "colab_type": "code",
        "colab": {}
      },
      "source": [
        "learn.load('stage-2')"
      ],
      "execution_count": null,
      "outputs": []
    },
    {
      "cell_type": "code",
      "metadata": {
        "id": "LdbVHXsWkVLJ",
        "colab_type": "code",
        "colab": {}
      },
      "source": [
        "!/opt/bin/nvidia-smi"
      ],
      "execution_count": null,
      "outputs": []
    },
    {
      "cell_type": "code",
      "metadata": {
        "id": "BrjsLWBnkXM4",
        "colab_type": "code",
        "colab": {}
      },
      "source": [
        "#CUDA_LAUNCH_BLOCKING=1\n",
        "lr_find(learn)\n",
        "learn.recorder.plot()"
      ],
      "execution_count": null,
      "outputs": []
    },
    {
      "cell_type": "code",
      "metadata": {
        "id": "vF7XVkIhkZIf",
        "colab_type": "code",
        "colab": {}
      },
      "source": [
        "lr=1e-4"
      ],
      "execution_count": null,
      "outputs": []
    },
    {
      "cell_type": "code",
      "metadata": {
        "id": "MmG820FAkazZ",
        "colab_type": "code",
        "colab": {}
      },
      "source": [
        "learn.fit_one_cycle(10, slice(lr), pct_start=0.9)"
      ],
      "execution_count": null,
      "outputs": []
    },
    {
      "cell_type": "code",
      "metadata": {
        "id": "IV2AM1tVkdNy",
        "colab_type": "code",
        "colab": {}
      },
      "source": [
        "learn.save('stage-1-weights')"
      ],
      "execution_count": null,
      "outputs": []
    },
    {
      "cell_type": "code",
      "metadata": {
        "id": "cnrMAAJpkfNM",
        "colab_type": "code",
        "colab": {}
      },
      "source": [
        "learn.load('stage-1-weights');"
      ],
      "execution_count": null,
      "outputs": []
    },
    {
      "cell_type": "code",
      "metadata": {
        "id": "JjrNgXZXkg9_",
        "colab_type": "code",
        "colab": {}
      },
      "source": [
        "learn.show_results(rows=5, figsize=(15,15))"
      ],
      "execution_count": null,
      "outputs": []
    },
    {
      "cell_type": "markdown",
      "metadata": {
        "id": "4TAIZ9s4msq5",
        "colab_type": "text"
      },
      "source": [
        "### 4.3. Interpret\n",
        "\n",
        "---\n",
        "\n"
      ]
    },
    {
      "cell_type": "code",
      "metadata": {
        "id": "W74hI7tWmncC",
        "colab_type": "code",
        "colab": {}
      },
      "source": [
        "interp = SegmentationInterpretation.from_learner(learn)"
      ],
      "execution_count": null,
      "outputs": []
    },
    {
      "cell_type": "code",
      "metadata": {
        "id": "yel6fEhlmxwA",
        "colab_type": "code",
        "colab": {}
      },
      "source": [
        "top_losses, top_idxs = interp.top_losses((288,352))"
      ],
      "execution_count": null,
      "outputs": []
    },
    {
      "cell_type": "code",
      "metadata": {
        "id": "6yfQcvPvmzd6",
        "colab_type": "code",
        "colab": {}
      },
      "source": [
        "# plot loss distribution\n",
        "plt.hist(to_np(top_losses), bins=20)"
      ],
      "execution_count": null,
      "outputs": []
    },
    {
      "cell_type": "code",
      "metadata": {
        "id": "dVEVTr0Vm2cj",
        "colab_type": "code",
        "colab": {}
      },
      "source": [
        "# top loss idxs of images\n",
        "top_idxs[:5]"
      ],
      "execution_count": null,
      "outputs": []
    },
    {
      "cell_type": "markdown",
      "metadata": {
        "id": "D8N5E7BxnK7n",
        "colab_type": "text"
      },
      "source": [
        "### 4.4. Confusion Matrix\n",
        "\n",
        "---\n",
        "\n"
      ]
    },
    {
      "cell_type": "code",
      "metadata": {
        "id": "WzpLXsjAnCzg",
        "colab_type": "code",
        "colab": {}
      },
      "source": [
        "mean_cm, single_img_cm = interp._generate_confusion()"
      ],
      "execution_count": null,
      "outputs": []
    },
    {
      "cell_type": "code",
      "metadata": {
        "id": "qlGEqxtKnPcH",
        "colab_type": "code",
        "colab": {}
      },
      "source": [
        "mean_cm.shape, single_img_cm.shape"
      ],
      "execution_count": null,
      "outputs": []
    },
    {
      "cell_type": "code",
      "metadata": {
        "id": "ypwBccNlnRxJ",
        "colab_type": "code",
        "colab": {}
      },
      "source": [
        "# global class performance\n",
        "df = interp._plot_intersect_cm(mean_cm, \"Mean of Ratio of Intersection given True Label\")"
      ],
      "execution_count": null,
      "outputs": []
    },
    {
      "cell_type": "code",
      "metadata": {
        "id": "_4CNorVgnU2D",
        "colab_type": "code",
        "colab": {}
      },
      "source": [
        "# single image class performance\n",
        "i = 10\n",
        "df = interp._plot_intersect_cm(single_img_cm[i], f\"Ratio of Intersection given True Label, Image:{i}\")"
      ],
      "execution_count": null,
      "outputs": []
    },
    {
      "cell_type": "code",
      "metadata": {
        "id": "V2h5ich-nXmo",
        "colab_type": "code",
        "colab": {}
      },
      "source": [
        "# show xyz\n",
        "interp.show_xyz(i)"
      ],
      "execution_count": null,
      "outputs": []
    },
    {
      "cell_type": "markdown",
      "metadata": {
        "id": "XI-bgt6voXi9",
        "colab_type": "text"
      },
      "source": [
        "### 4.5. Second model continuation\n",
        "\n",
        "---\n",
        "\n"
      ]
    },
    {
      "cell_type": "code",
      "metadata": {
        "id": "6BuzgDOYoS60",
        "colab_type": "code",
        "colab": {}
      },
      "source": [
        "learn.unfreeze()"
      ],
      "execution_count": null,
      "outputs": []
    },
    {
      "cell_type": "code",
      "metadata": {
        "id": "Zili8A1rojNi",
        "colab_type": "code",
        "colab": {}
      },
      "source": [
        "lrs = slice(lr/400,lr/4)"
      ],
      "execution_count": null,
      "outputs": []
    },
    {
      "cell_type": "code",
      "metadata": {
        "id": "6C5gFMv7olCX",
        "colab_type": "code",
        "colab": {}
      },
      "source": [
        "learn.fit_one_cycle(100, lrs, pct_start=0.8)"
      ],
      "execution_count": null,
      "outputs": []
    },
    {
      "cell_type": "code",
      "metadata": {
        "id": "DwdGGDd3ooXx",
        "colab_type": "code",
        "colab": {}
      },
      "source": [
        "learn.save('stage-2-weights')"
      ],
      "execution_count": null,
      "outputs": []
    },
    {
      "cell_type": "code",
      "metadata": {
        "id": "Oa5iJP78osiY",
        "colab_type": "code",
        "colab": {}
      },
      "source": [
        "learn.load('stage-2-weights');"
      ],
      "execution_count": null,
      "outputs": []
    },
    {
      "cell_type": "code",
      "metadata": {
        "id": "N4yDmcE7ouv6",
        "colab_type": "code",
        "colab": {}
      },
      "source": [
        "learn.show_results(rows=25, figsize=(20,20))"
      ],
      "execution_count": null,
      "outputs": []
    },
    {
      "cell_type": "markdown",
      "metadata": {
        "id": "wAZbjvb40iMJ",
        "colab_type": "text"
      },
      "source": [
        "### 4.6. Confusion Matrix\n",
        "\n",
        "---\n",
        "\n"
      ]
    },
    {
      "cell_type": "code",
      "metadata": {
        "id": "V1zqX1rEicia",
        "colab_type": "code",
        "colab": {}
      },
      "source": [
        "interp = SegmentationInterpretation.from_learner(learn)"
      ],
      "execution_count": null,
      "outputs": []
    },
    {
      "cell_type": "code",
      "metadata": {
        "id": "s4K_t8a30QW4",
        "colab_type": "code",
        "colab": {}
      },
      "source": [
        "mean_cm, single_img_cm = interp._generate_confusion()"
      ],
      "execution_count": null,
      "outputs": []
    },
    {
      "cell_type": "code",
      "metadata": {
        "id": "P2jgTPz60mMm",
        "colab_type": "code",
        "colab": {}
      },
      "source": [
        "mean_cm.shape, single_img_cm.shape"
      ],
      "execution_count": null,
      "outputs": []
    },
    {
      "cell_type": "code",
      "metadata": {
        "id": "k149KJTd0oCk",
        "colab_type": "code",
        "colab": {}
      },
      "source": [
        "# global class performance\n",
        "df = interp._plot_intersect_cm(mean_cm, \"Mean of Ratio of Intersection given True Label\")"
      ],
      "execution_count": null,
      "outputs": []
    },
    {
      "cell_type": "code",
      "metadata": {
        "id": "ccTzua6t0q3z",
        "colab_type": "code",
        "colab": {}
      },
      "source": [
        "# single image class performance\n",
        "i = 130\n",
        "df = interp._plot_intersect_cm(single_img_cm[i], f\"Ratio of Intersection given True Label, Image:{i}\")"
      ],
      "execution_count": null,
      "outputs": []
    },
    {
      "cell_type": "code",
      "metadata": {
        "id": "StyO909Y0tbq",
        "colab_type": "code",
        "colab": {}
      },
      "source": [
        "# show xyz\n",
        "interp.show_xyz(i)"
      ],
      "execution_count": null,
      "outputs": []
    },
    {
      "cell_type": "markdown",
      "metadata": {
        "id": "g5RVRyXL0_Uh",
        "colab_type": "text"
      },
      "source": [
        "### 4.7. Interpret\n",
        "\n",
        "---\n",
        "\n"
      ]
    },
    {
      "cell_type": "code",
      "metadata": {
        "id": "DHSOVNYk0_yI",
        "colab_type": "code",
        "colab": {}
      },
      "source": [
        "learn.interpret"
      ],
      "execution_count": null,
      "outputs": []
    },
    {
      "cell_type": "markdown",
      "metadata": {
        "id": "eZ7SZZBN1KrS",
        "colab_type": "text"
      },
      "source": [
        "### 4.8. Saving\n",
        "\n",
        "---\n",
        "\n"
      ]
    },
    {
      "cell_type": "code",
      "metadata": {
        "id": "L-jfTKtS1GwG",
        "colab_type": "code",
        "colab": {}
      },
      "source": [
        "learn.save('stage-2-weights')"
      ],
      "execution_count": null,
      "outputs": []
    },
    {
      "cell_type": "markdown",
      "metadata": {
        "id": "S0FHwE1p1RmR",
        "colab_type": "text"
      },
      "source": [
        "## 5. Using a saved model to Predict\n",
        "\n",
        "---\n",
        "\n"
      ]
    },
    {
      "cell_type": "code",
      "metadata": {
        "id": "zs0LgfQr1NQ1",
        "colab_type": "code",
        "colab": {}
      },
      "source": [
        "size = src_size\n",
        "\n",
        "free = gpu_mem_get_free_no_cache()\n",
        "# the max size of bs depends on the available GPU RAM\n",
        "if free > 8200: bs=8\n",
        "else:           bs=4\n",
        "print(f\"using bs={bs}, have {free}MB of GPU RAM free\")"
      ],
      "execution_count": null,
      "outputs": []
    },
    {
      "cell_type": "code",
      "metadata": {
        "id": "kcPVDg1o1ZyY",
        "colab_type": "code",
        "colab": {}
      },
      "source": [
        "src = (SegmentationItemList.from_folder(path_img)\n",
        "       .split_by_fname_file('../valid.txt')\n",
        "       .label_from_func(get_y_fn, classes=codes))"
      ],
      "execution_count": null,
      "outputs": []
    },
    {
      "cell_type": "code",
      "metadata": {
        "id": "Xhppsx_R1bvI",
        "colab_type": "code",
        "colab": {}
      },
      "source": [
        "data = (src.transform(get_transforms(), size=size, tfm_y=True)\n",
        "        .databunch(bs=bs)\n",
        "        .normalize(imagenet_stats))"
      ],
      "execution_count": null,
      "outputs": []
    },
    {
      "cell_type": "code",
      "metadata": {
        "id": "ViZg6ouZOdcm",
        "colab_type": "code",
        "colab": {}
      },
      "source": [
        "learn = unet_learner(data, models.resnet34)"
      ],
      "execution_count": null,
      "outputs": []
    },
    {
      "cell_type": "code",
      "metadata": {
        "id": "wkRfgXLd1sMe",
        "colab_type": "code",
        "colab": {}
      },
      "source": [
        "learn.load('stage-2-weights');"
      ],
      "execution_count": null,
      "outputs": []
    },
    {
      "cell_type": "code",
      "metadata": {
        "id": "ABRotkkd1vSU",
        "colab_type": "code",
        "colab": {}
      },
      "source": [
        "interp = SegmentationInterpretation.from_learner(learn)"
      ],
      "execution_count": null,
      "outputs": []
    },
    {
      "cell_type": "code",
      "metadata": {
        "id": "gE8c7YSX1xOH",
        "colab_type": "code",
        "colab": {}
      },
      "source": [
        "mean_cm, single_img_cm = interp._generate_confusion()"
      ],
      "execution_count": null,
      "outputs": []
    },
    {
      "cell_type": "code",
      "metadata": {
        "id": "OWUm7CsA1yxT",
        "colab_type": "code",
        "colab": {}
      },
      "source": [
        "mean_cm.shape, single_img_cm.shape"
      ],
      "execution_count": null,
      "outputs": []
    },
    {
      "cell_type": "code",
      "metadata": {
        "id": "6ZejuHxi106m",
        "colab_type": "code",
        "colab": {}
      },
      "source": [
        "# global class performance\n",
        "df = interp._plot_intersect_cm(mean_cm, \"Mean of Ratio of Intersection given True Label\")"
      ],
      "execution_count": null,
      "outputs": []
    },
    {
      "cell_type": "code",
      "metadata": {
        "id": "vGajg-Q_13xU",
        "colab_type": "code",
        "colab": {}
      },
      "source": [
        "# single image class performance\n",
        "i = 130\n",
        "df = interp._plot_intersect_cm(single_img_cm[i], f\"Ratio of Intersection given True Label, Image:{i}\")"
      ],
      "execution_count": null,
      "outputs": []
    },
    {
      "cell_type": "code",
      "metadata": {
        "id": "KmLQEz2w16H6",
        "colab_type": "code",
        "colab": {}
      },
      "source": [
        "# show xyz\n",
        "interp.show_xyz(i)"
      ],
      "execution_count": null,
      "outputs": []
    },
    {
      "cell_type": "code",
      "metadata": {
        "id": "J66cvtAP181a",
        "colab_type": "code",
        "colab": {}
      },
      "source": [
        "learn.show_results()"
      ],
      "execution_count": null,
      "outputs": []
    },
    {
      "cell_type": "markdown",
      "metadata": {
        "id": "IO3-KXDsp4VB",
        "colab_type": "text"
      },
      "source": [
        "## 6. Saving the Results\n",
        "\n",
        "---\n",
        "\n"
      ]
    },
    {
      "cell_type": "code",
      "metadata": {
        "id": "BMj7IsIep6oZ",
        "colab_type": "code",
        "colab": {}
      },
      "source": [
        "img_f = fnames[655]\n",
        "img = open_image(img_f)\n",
        "img.show(figsize=(5,5))"
      ],
      "execution_count": null,
      "outputs": []
    },
    {
      "cell_type": "code",
      "metadata": {
        "id": "m5j5g8nuqCd5",
        "colab_type": "code",
        "colab": {}
      },
      "source": [
        "prediction = learn.predict(img)"
      ],
      "execution_count": null,
      "outputs": []
    },
    {
      "cell_type": "code",
      "metadata": {
        "id": "r8F26wXwqEIL",
        "colab_type": "code",
        "colab": {}
      },
      "source": [
        "prediction[0].show(figsize=(5,5))"
      ],
      "execution_count": null,
      "outputs": []
    },
    {
      "cell_type": "code",
      "metadata": {
        "id": "S47GvGCLqGTe",
        "colab_type": "code",
        "colab": {}
      },
      "source": [
        "results_save = 'results'\n",
        "path_rst = path/results_save\n",
        "path_rst.mkdir(exist_ok=True)"
      ],
      "execution_count": null,
      "outputs": []
    },
    {
      "cell_type": "code",
      "metadata": {
        "id": "J8KKlUcSqLZ1",
        "colab_type": "code",
        "colab": {}
      },
      "source": [
        "def save_preds(names):\n",
        "    i=0\n",
        "    #names = dl.dataset.items\n",
        "    \n",
        "    for b in names:\n",
        "        img_s = fnames[i]\n",
        "        img_toSave = open_image(img_s)\n",
        "        img_split = f'{img_s}'\n",
        "        img_split = img_split[44:]\n",
        "        predictionSave = learn.predict(img_toSave)\n",
        "        predictionSave[0].save(path_rst/img_split) #Save Image\n",
        "        i += 1\n",
        "        print(i)"
      ],
      "execution_count": null,
      "outputs": []
    },
    {
      "cell_type": "code",
      "metadata": {
        "id": "sGOALMQJqNT0",
        "colab_type": "code",
        "colab": {}
      },
      "source": [
        "save_preds(fnames)"
      ],
      "execution_count": null,
      "outputs": []
    },
    {
      "cell_type": "markdown",
      "metadata": {
        "id": "Ke8FATsZW1n_",
        "colab_type": "text"
      },
      "source": [
        "## 7. Coloring the Results\n",
        "\n",
        "---\n",
        "\n",
        "\n"
      ]
    },
    {
      "cell_type": "code",
      "metadata": {
        "id": "8ODnS4N8W6yF",
        "colab_type": "code",
        "colab": {}
      },
      "source": [
        "import os\n",
        "import glob\n",
        "import base64\n",
        "import cv2 as cv\n",
        "cv.__version__"
      ],
      "execution_count": null,
      "outputs": []
    },
    {
      "cell_type": "code",
      "metadata": {
        "id": "H5ZL2LkXX9Ij",
        "colab_type": "code",
        "colab": {}
      },
      "source": [
        "colored_results = 'results_color'\n",
        "path_crst = path/colored_results\n",
        "path_crst.mkdir(exist_ok=True)"
      ],
      "execution_count": null,
      "outputs": []
    },
    {
      "cell_type": "code",
      "metadata": {
        "id": "CaMwRbGJzFyG",
        "colab_type": "code",
        "colab": {}
      },
      "source": [
        "%load_ext cython"
      ],
      "execution_count": null,
      "outputs": []
    },
    {
      "cell_type": "code",
      "metadata": {
        "id": "5tdvtka_zJg7",
        "colab_type": "code",
        "colab": {}
      },
      "source": [
        "%%cython -a\n",
        "import cython\n",
        "cimport numpy\n",
        "import cv2 as cv\n",
        "import numpy as np\n",
        "\n",
        "@cython.boundscheck(False)\n",
        "@cython.wraparound(False)\n",
        "#def colorfull_fast(numpy.ndarray[numpy.uint8_t, ndim=3, mode=\"c\"] frame):\n",
        "cpdef numpy.ndarray[numpy.uint8_t, ndim=3, mode=\"c\"] colorfull_fast(numpy.ndarray[numpy.uint8_t, ndim=3, mode=\"c\"] frame):\n",
        "  # set the variable extension types\n",
        "  cdef int x, y, width, height, b, g, r\n",
        "\n",
        "  #frame = cv.imdecode(np.frombuffer(byteframe, np.uint8), -1)\n",
        "\n",
        "  # grab the image dimensions\n",
        "  width = 288\n",
        "  height = 352\n",
        "    \n",
        "  # loop over the image, pixel by pixel\n",
        "  for x in range(width):\n",
        "    for y in range(height):\n",
        "      b, g, r = frame[x, y]\n",
        "      if (b, g, r) == (0,0,0): #background\n",
        "        frame[x, y] = (0,0,0)\n",
        "      elif (b, g, r) == (1,1,1): #roadAsphalt\n",
        "        frame[x, y] = (85,85,255)\n",
        "      elif (b, g, r) == (2,2,2): #roadPaved\n",
        "        frame[x, y] = (85,170,127)\n",
        "      elif (b, g, r) == (3,3,3): #roadUnpaved\n",
        "        frame[x, y] = (255,170,127) \n",
        "      elif (b, g, r) == (4,4,4): #roadMarking\n",
        "        frame[x, y] = (255,255,255) \n",
        "      elif (b, g, r) == (5,5,5): #speedBump\n",
        "        frame[x, y] = (255,85,255)\n",
        "      elif (b, g, r) == (6,6,6): #catsEye\n",
        "        frame[x, y] = (255,255,127)          \n",
        "      elif (b, g, r) == (7,7,7): #stormDrain\n",
        "        frame[x, y] = (170,0,127) \n",
        "      elif (b, g, r) == (8,8,8): #manholeCover\n",
        "        frame[x, y] = (0,255,255) \n",
        "      elif (b, g, r) == (9,9,9): #patchs\n",
        "        frame[x, y] = (0,0,127) \n",
        "      elif (b, g, r) == (10,10,10): #waterPuddle\n",
        "        frame[x, y] = (170,0,0)\n",
        "      elif (b, g, r) == (11,11,11): #pothole\n",
        "        frame[x, y] = (255,0,0)\n",
        "      elif (b, g, r) == (12,12,12): #cracks\n",
        "        frame[x, y] = (255,85,0)\n",
        " \n",
        "  frame = cv.cvtColor(frame,cv.COLOR_BGR2RGB)\n",
        "  \n",
        "  # return the colored image\n",
        "  return frame"
      ],
      "execution_count": null,
      "outputs": []
    },
    {
      "cell_type": "code",
      "metadata": {
        "id": "kAidoH1KzMsd",
        "colab_type": "code",
        "colab": {}
      },
      "source": [
        "import timeit\n",
        "# Count variables\n",
        "fqtd = 0\n",
        "\n",
        "filenames = [img for img in glob.glob(str(path_rst/\"*.png\"))]\n",
        "\n",
        "filenames.sort() # ADD THIS LINE\n",
        "\n",
        "for img in filenames:\n",
        "  frame = cv.imread(img)\n",
        "\n",
        "  #%timeit colorfull_fast(frame)\n",
        "  \n",
        "  frame = colorfull_fast(frame)\n",
        "  name = \"%09d.png\"%fqtd\n",
        "  cv.imwrite(os.path.join(path_crst, name), frame)\n",
        "\n",
        "  fqtd += 1\n",
        "  print(fqtd)\n",
        "\n",
        "print(\"Done!\")"
      ],
      "execution_count": null,
      "outputs": []
    }
  ]
}